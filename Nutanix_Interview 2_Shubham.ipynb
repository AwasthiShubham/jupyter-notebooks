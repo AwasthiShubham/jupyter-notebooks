{
 "cells": [
  {
   "cell_type": "markdown",
   "metadata": {},
   "source": [
    "# Interview 2"
   ]
  },
  {
   "cell_type": "markdown",
   "metadata": {},
   "source": [
    "Divide x into y parts so that results is random and none of elements are same. For example x = 10, y = 2, possible outputs : (1,9),(2,8) etc.\n"
   ]
  },
  {
   "cell_type": "code",
   "execution_count": 1,
   "metadata": {},
   "outputs": [],
   "source": [
    "from random import randint\n",
    "def equalrandomparts(x,y):\n",
    "    looper = 0\n",
    "    while(looper == 0):\n",
    "        random_list = [randint(1,x+1) for m in range(y)]\n",
    "        if sum(random_list) == x and random_list == list(set(random_list)):\n",
    "            looper = 1\n",
    "    print(random_list)"
   ]
  },
  {
   "cell_type": "code",
   "execution_count": 2,
   "metadata": {},
   "outputs": [
    {
     "name": "stdout",
     "output_type": "stream",
     "text": [
      "[549, 62, 389]\n"
     ]
    }
   ],
   "source": [
    "equalrandomparts(1000,3)"
   ]
  },
  {
   "cell_type": "markdown",
   "metadata": {},
   "source": [
    "For a given string iterate through each letter the given number of times and delete the letter. Repeat the process untill last letter is remaing. Print the last letter For Example : String = \"FUNNY\" Count = 8 then after first iteration \"FU NY\""
   ]
  },
  {
   "cell_type": "code",
   "execution_count": 3,
   "metadata": {},
   "outputs": [],
   "source": [
    "def last_letter(string, count):\n",
    "    while(len(string)>1):\n",
    "        if count>len(string):\n",
    "            index = count%len(string)\n",
    "            if index == 0:\n",
    "                string = string[:(len(string)-1)]\n",
    "                print(string)\n",
    "            else:\n",
    "                string= string[index:] + string[0:index-1]\n",
    "                print(string)\n",
    "        if count<len(string):\n",
    "            index = count\n",
    "            string= string[index:] + string[0:index-1]\n",
    "            print(string)\n",
    "        if count == len(string):\n",
    "            string = string[:(len(string)-1)]\n",
    "            print(string)"
   ]
  },
  {
   "cell_type": "code",
   "execution_count": 4,
   "metadata": {},
   "outputs": [
    {
     "name": "stdout",
     "output_type": "stream",
     "text": [
      "ETHERTO\n",
      "ERTOET\n",
      "OETER\n",
      "EROE\n",
      "EER\n",
      "EE\n",
      "E\n"
     ]
    }
   ],
   "source": [
    "last_letter('TOGETHER', 3)"
   ]
  },
  {
   "cell_type": "code",
   "execution_count": null,
   "metadata": {},
   "outputs": [],
   "source": []
  }
 ],
 "metadata": {
  "kernelspec": {
   "display_name": "Python 3",
   "language": "python",
   "name": "python3"
  },
  "language_info": {
   "codemirror_mode": {
    "name": "ipython",
    "version": 3
   },
   "file_extension": ".py",
   "mimetype": "text/x-python",
   "name": "python",
   "nbconvert_exporter": "python",
   "pygments_lexer": "ipython3",
   "version": "3.7.4"
  }
 },
 "nbformat": 4,
 "nbformat_minor": 2
}
