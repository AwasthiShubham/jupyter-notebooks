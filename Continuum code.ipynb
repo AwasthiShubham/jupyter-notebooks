{
 "cells": [
  {
   "cell_type": "code",
   "execution_count": 2,
   "metadata": {},
   "outputs": [],
   "source": [
    "with open('numbers.txt','w') as f:\n",
    "    for i in range(10):\n",
    "        f.write(f'{i}\\n')"
   ]
  },
  {
   "cell_type": "code",
   "execution_count": 3,
   "metadata": {},
   "outputs": [],
   "source": [
    "with open('errors.txt','w') as f:\n",
    "    for i in range(10):\n",
    "        if i == 5:\n",
    "            f.write('error\\n')\n",
    "        f.write(f'{i}\\n')"
   ]
  },
  {
   "cell_type": "code",
   "execution_count": 20,
   "metadata": {},
   "outputs": [
    {
     "name": "stdout",
     "output_type": "stream",
     "text": [
      "45\n"
     ]
    }
   ],
   "source": [
    "with open('numbers.txt','r') as f:\n",
    "    lines = f.readlines()\n",
    "    try:\n",
    "        print(sum(list(map(int,lines))))\n",
    "    except:\n",
    "        print('error')"
   ]
  },
  {
   "cell_type": "code",
   "execution_count": 21,
   "metadata": {},
   "outputs": [
    {
     "name": "stdout",
     "output_type": "stream",
     "text": [
      "error\n"
     ]
    }
   ],
   "source": [
    "with open('errors.txt','r') as f:\n",
    "    lines = f.readlines()\n",
    "    try:\n",
    "        print(sum(list(map(int,lines))))\n",
    "    except:\n",
    "        print('error')"
   ]
  },
  {
   "cell_type": "code",
   "execution_count": 25,
   "metadata": {},
   "outputs": [],
   "source": [
    "with open('lines.txt','w') as f:\n",
    "    for i in range(25):\n",
    "        f.write(f'I am line {i}\\n')"
   ]
  },
  {
   "cell_type": "code",
   "execution_count": 26,
   "metadata": {},
   "outputs": [
    {
     "name": "stdout",
     "output_type": "stream",
     "text": [
      "I am 23rd line\n"
     ]
    }
   ],
   "source": [
    "with open('lines.txt','r') as f:\n",
    "    for i,line in enumerate(f):\n",
    "        if i == 22:\n",
    "            print('I am 23rd line')"
   ]
  },
  {
   "cell_type": "code",
   "execution_count": 30,
   "metadata": {},
   "outputs": [
    {
     "name": "stdout",
     "output_type": "stream",
     "text": [
      "21\n"
     ]
    }
   ],
   "source": [
    "(a,b)=(1,2)\n",
    "a,b=b,a\n",
    "print('{}{}'.format(a,b))"
   ]
  },
  {
   "cell_type": "code",
   "execution_count": 31,
   "metadata": {},
   "outputs": [
    {
     "name": "stdout",
     "output_type": "stream",
     "text": [
      "789\n"
     ]
    }
   ],
   "source": [
    "a = '123456789'\n",
    "print(a[-3:])"
   ]
  },
  {
   "cell_type": "code",
   "execution_count": 33,
   "metadata": {},
   "outputs": [
    {
     "name": "stdout",
     "output_type": "stream",
     "text": [
      "Tree\n",
      "Banyan\n",
      "Peepal\n"
     ]
    }
   ],
   "source": [
    "class Tree(object):\n",
    "    def name(self):\n",
    "        return 'Tree'\n",
    "    def print_tree(self):\n",
    "        print(self.name())\n",
    "    \n",
    "class Banyan(Tree):\n",
    "    def name(self):\n",
    "        return 'Banyan'\n",
    "    \n",
    "class Peepal(Tree):\n",
    "    def print_tree(self):\n",
    "        print('Peepal')\n",
    "\n",
    "out = [Tree(),Banyan(),Peepal()]\n",
    "for i in out:\n",
    "    i.print_tree()"
   ]
  },
  {
   "cell_type": "code",
   "execution_count": null,
   "metadata": {},
   "outputs": [],
   "source": []
  }
 ],
 "metadata": {
  "kernelspec": {
   "display_name": "Python 3",
   "language": "python",
   "name": "python3"
  },
  "language_info": {
   "codemirror_mode": {
    "name": "ipython",
    "version": 3
   },
   "file_extension": ".py",
   "mimetype": "text/x-python",
   "name": "python",
   "nbconvert_exporter": "python",
   "pygments_lexer": "ipython3",
   "version": "3.7.4"
  }
 },
 "nbformat": 4,
 "nbformat_minor": 2
}
