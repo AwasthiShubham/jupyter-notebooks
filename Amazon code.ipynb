{
 "cells": [
  {
   "cell_type": "code",
   "execution_count": 14,
   "metadata": {},
   "outputs": [],
   "source": [
    "#Given an array, find the largest product of two consecutive elements.\n",
    "\n",
    "def largest_product():\n",
    "    nums = list(map(int,input().split(' ')))\n",
    "    prod = [nums[i] * nums[i+1] for i in range(len(nums)-1)]\n",
    "    return max(prod)"
   ]
  },
  {
   "cell_type": "code",
   "execution_count": 15,
   "metadata": {},
   "outputs": [
    {
     "name": "stdout",
     "output_type": "stream",
     "text": [
      "2 5 7 11 89\n",
      "979\n"
     ]
    }
   ],
   "source": [
    "print(largest_product())"
   ]
  },
  {
   "cell_type": "code",
   "execution_count": 43,
   "metadata": {},
   "outputs": [],
   "source": [
    "#Given an integer, find the nearest palindrome to that number.\n",
    "\n",
    "def nearest_palindrome():\n",
    "    l_num = [x for x in input()]\n",
    "    size = len(l_num)\n",
    "    if l_num == l_num.reverse():\n",
    "        return l_num\n",
    "    else:\n",
    "        if size%2 == 0:\n",
    "            newl_num = l_num[:int(size/2)]\n",
    "            return newl_num"
   ]
  },
  {
   "cell_type": "code",
   "execution_count": 44,
   "metadata": {},
   "outputs": [
    {
     "name": "stdout",
     "output_type": "stream",
     "text": [
      "1234\n"
     ]
    },
    {
     "data": {
      "text/plain": [
       "['4', '3']"
      ]
     },
     "execution_count": 44,
     "metadata": {},
     "output_type": "execute_result"
    }
   ],
   "source": [
    "nearest_palindrome()"
   ]
  },
  {
   "cell_type": "code",
   "execution_count": 18,
   "metadata": {},
   "outputs": [],
   "source": [
    "#Find the word from list which has max letters coinciding with given string\n",
    "\n",
    "# Number of testcases : 2\n",
    "# Number of words in the list : 4\n",
    "# List of words : ale apple giraffe horse\n",
    "# Given string : aledaphplte\n",
    "\n",
    "def chosen_one():\n",
    "    tc = int(input())\n",
    "    nw = int(input())\n",
    "    list_words = input().split(' ')\n",
    "    string = input()\n",
    "    count = 0\n",
    "    dict_words = {}\n",
    "    for i in range(nw):\n",
    "        for letter in list_words[i]:\n",
    "            if letter in list_words[i] and letter in string:\n",
    "                count = count + 1\n",
    "        dict_words[list_words[i]] = count\n",
    "        count = 0\n",
    "    print(max(dict_words,key=dict_words.get))"
   ]
  },
  {
   "cell_type": "code",
   "execution_count": 19,
   "metadata": {},
   "outputs": [
    {
     "name": "stdout",
     "output_type": "stream",
     "text": [
      "2\n",
      "4\n",
      "ale apple giraffe horse\n",
      "aledaphplte\n",
      "apple\n"
     ]
    }
   ],
   "source": [
    "chosen_one()"
   ]
  },
  {
   "cell_type": "code",
   "execution_count": null,
   "metadata": {},
   "outputs": [],
   "source": []
  }
 ],
 "metadata": {
  "kernelspec": {
   "display_name": "Python 3",
   "language": "python",
   "name": "python3"
  },
  "language_info": {
   "codemirror_mode": {
    "name": "ipython",
    "version": 3
   },
   "file_extension": ".py",
   "mimetype": "text/x-python",
   "name": "python",
   "nbconvert_exporter": "python",
   "pygments_lexer": "ipython3",
   "version": "3.7.4"
  }
 },
 "nbformat": 4,
 "nbformat_minor": 2
}
