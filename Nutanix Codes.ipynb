{
 "cells": [
  {
   "cell_type": "markdown",
   "metadata": {},
   "source": [
    "# Median Decoding Problem"
   ]
  },
  {
   "cell_type": "markdown",
   "metadata": {},
   "source": [
    "Median letter in a word is a letter which is in the middle of the word. If the word's lenght is even, the median is the left of the two middle letters. in the following examples, the median letter is highlighted: **contest,** **info**.If the word consists of single letter the letter itself would be the median letter."
   ]
  },
  {
   "cell_type": "markdown",
   "metadata": {},
   "source": [
    "Ex.\n",
    "1. contest - median letter is **t**\n",
    "1. info - median letter is **n**"
   ]
  },
  {
   "cell_type": "markdown",
   "metadata": {},
   "source": [
    "Based on this the string is decoded in the following way.\n",
    "We write the median letterof the word, then delete it an repeat this process until no letters left.\n",
    "Example **volga** encodes to **logva**. Encodeing this given (logva) and we have to decode it (volga)"
   ]
  },
  {
   "cell_type": "code",
   "execution_count": 78,
   "metadata": {},
   "outputs": [],
   "source": [
    "def medianEncode(string):\n",
    "    string = [x for x in string]\n",
    "    deco = []\n",
    "    if len(string)%2 != 0:\n",
    "        for i in range(0,len(string)):\n",
    "            if i%2==0:\n",
    "                deco.insert(i,string[0])\n",
    "                string.pop(0)\n",
    "            else:\n",
    "                deco.insert(0,string[0])\n",
    "                string.pop(0)\n",
    "        print(''.join(deco))\n",
    "    else:\n",
    "        for i in range(0,len(string)):\n",
    "            if i%2==0:\n",
    "                deco.insert(0,string[0])\n",
    "                string.pop(0)\n",
    "            else:\n",
    "                deco.insert(i,string[0])\n",
    "                string.pop(0)\n",
    "        print(''.join(deco))"
   ]
  },
  {
   "cell_type": "markdown",
   "metadata": {},
   "source": [
    "came >> a(cme) >> am(ce) >> amce"
   ]
  },
  {
   "cell_type": "markdown",
   "metadata": {},
   "source": [
    "volga >> l(voga) >> lo(vga) >> log(va) >> logv(a) >> logva"
   ]
  },
  {
   "cell_type": "code",
   "execution_count": 79,
   "metadata": {},
   "outputs": [
    {
     "name": "stdout",
     "output_type": "stream",
     "text": [
      "volga\n"
     ]
    }
   ],
   "source": [
    "medianEncode('logva')"
   ]
  },
  {
   "cell_type": "code",
   "execution_count": 80,
   "metadata": {},
   "outputs": [
    {
     "name": "stdout",
     "output_type": "stream",
     "text": [
      "info\n"
     ]
    }
   ],
   "source": [
    "medianEncode('nfio')"
   ]
  },
  {
   "cell_type": "markdown",
   "metadata": {},
   "source": [
    "# Longest word in the vocabulary"
   ]
  },
  {
   "cell_type": "markdown",
   "metadata": {},
   "source": [
    "Given a string and a string vocabulary find the longest string in the vocabulary that can be formed by deleting some characters of the given string. If there are more than one possible results return the solution which first occurs in the vocabulary. if there is no possible result return \"**none**\""
   ]
  },
  {
   "cell_type": "markdown",
   "metadata": {},
   "source": [
    "#### Input\n",
    "abpcplea  \n",
    "4  \n",
    "ale  \n",
    "apple  \n",
    "monkey  \n",
    "plea  "
   ]
  },
  {
   "cell_type": "markdown",
   "metadata": {},
   "source": [
    "#### Output\n",
    "apple"
   ]
  },
  {
   "cell_type": "code",
   "execution_count": 31,
   "metadata": {},
   "outputs": [],
   "source": [
    "def findLongString():\n",
    "    vocab = input('Enter the vocabulary')\n",
    "    n = int(input('Enter the word to be checked'))\n",
    "    words = [input('Enter the word') for x in range(n)]\n",
    "    count = 0\n",
    "    count_dict = {}\n",
    "    for word in words:\n",
    "        for letter in word:\n",
    "            if letter in vocab:\n",
    "                count = count + 1\n",
    "            if letter not in vocab:\n",
    "                count = 0\n",
    "                break\n",
    "        count_dict[word]=count\n",
    "        count = 0\n",
    "    print(count_dict)\n",
    "    max_val = 0\n",
    "    counter = 0\n",
    "    for value in count_dict.values():\n",
    "        if value == 0:\n",
    "            counter = counter + 1\n",
    "        if value > max_val:\n",
    "            max_val = value\n",
    "    if counter == n:\n",
    "        print('none')\n",
    "    else:\n",
    "        print(max(count_dict,key=count_dict.get))\n",
    "        "
   ]
  },
  {
   "cell_type": "code",
   "execution_count": 34,
   "metadata": {},
   "outputs": [
    {
     "name": "stdout",
     "output_type": "stream",
     "text": [
      "Enter the vocabularyabpcplea\n",
      "Enter the word to be checked3\n",
      "Enter the wordb\n",
      "Enter the wordc\n",
      "Enter the worda\n",
      "{'b': 1, 'c': 1, 'a': 1}\n",
      "b\n"
     ]
    }
   ],
   "source": [
    "findLongString()"
   ]
  },
  {
   "cell_type": "markdown",
   "metadata": {},
   "source": [
    "# Search an element in a sorted and rotated array"
   ]
  },
  {
   "cell_type": "markdown",
   "metadata": {},
   "source": [
    "An element in a sorted array can be found in O(log n) time via binary search. But suppose we rotate an ascending order sorted array at some pivot unknown to you beforehand. So for instance, 1 2 3 4 5 might become 3 4 5 1 2. Devise a way to find an element in the rotated array in O(log n) time."
   ]
  },
  {
   "cell_type": "code",
   "execution_count": 28,
   "metadata": {},
   "outputs": [],
   "source": [
    "def rotatedBinSearch(arr, x):\n",
    "    pivot = 0\n",
    "    for i in range(len(arr)-1):\n",
    "        if arr[i+1]<arr[i]:\n",
    "            pivot = i\n",
    "    if x < arr[0]:\n",
    "        for i in range(pivot,len(arr)):\n",
    "            if arr[i] == x:\n",
    "                return i\n",
    "    else:\n",
    "        for i in range(0,pivot):\n",
    "            if arr[i] == x:\n",
    "                return i"
   ]
  },
  {
   "cell_type": "code",
   "execution_count": 29,
   "metadata": {},
   "outputs": [
    {
     "data": {
      "text/plain": [
       "3"
      ]
     },
     "execution_count": 29,
     "metadata": {},
     "output_type": "execute_result"
    }
   ],
   "source": [
    "rotatedBinSearch([3,4,5,1,2],1)"
   ]
  },
  {
   "cell_type": "code",
   "execution_count": 31,
   "metadata": {},
   "outputs": [
    {
     "name": "stdout",
     "output_type": "stream",
     "text": [
      "1.06 µs ± 22.2 ns per loop (mean ± std. dev. of 7 runs, 1000000 loops each)\n"
     ]
    }
   ],
   "source": [
    "%timeit rotatedBinSearch([3,4,5,1,2],1)"
   ]
  },
  {
   "cell_type": "code",
   "execution_count": 32,
   "metadata": {},
   "outputs": [],
   "source": [
    "def rbsimproved(arr, low, high, key):\n",
    "    if low > high:\n",
    "        return -1\n",
    "    mid = (low + high) // 2\n",
    "    if arr[mid] == key:\n",
    "        return mid\n",
    "    if arr[low] <= arr[mid]:\n",
    "        if key >= arr[low] and key <= arr[mid]:\n",
    "            return rbsimproved(arr, low, mid-1, key)\n",
    "        return rbsimproved(arr, mid+1, high, key)\n",
    "    if key >= arr[mid] and key <= arr[high]:\n",
    "        return rbsimproved(arr, mid+1, high, key)\n",
    "    return rbsimproved(arr, low, mid-1, key)\n",
    "\n",
    "def output(arr,key):\n",
    "    op = rbsimproved(arr, 0, len(arr)-1, key)\n",
    "    if op != -1:\n",
    "        print(f'Index of the {key} is {op}')\n",
    "    else:\n",
    "        print(f'{key} not found')"
   ]
  },
  {
   "cell_type": "code",
   "execution_count": 36,
   "metadata": {},
   "outputs": [
    {
     "name": "stdout",
     "output_type": "stream",
     "text": [
      "Index of the 1 is 3\n"
     ]
    }
   ],
   "source": [
    "output([3,4,5,1,2],1)"
   ]
  },
  {
   "cell_type": "code",
   "execution_count": 37,
   "metadata": {},
   "outputs": [
    {
     "name": "stdout",
     "output_type": "stream",
     "text": [
      "837 ns ± 3.43 ns per loop (mean ± std. dev. of 7 runs, 1000000 loops each)\n"
     ]
    }
   ],
   "source": [
    "%timeit rbsimproved([3,4,5,1,2],0,len([3,4,5,1,2]),1)"
   ]
  },
  {
   "cell_type": "markdown",
   "metadata": {},
   "source": [
    "# Factorial of a number using lambda function"
   ]
  },
  {
   "cell_type": "code",
   "execution_count": 43,
   "metadata": {},
   "outputs": [],
   "source": [
    "factorial = lambda x: 1 if x == 0 else x * factorial(x-1)"
   ]
  },
  {
   "cell_type": "code",
   "execution_count": 44,
   "metadata": {},
   "outputs": [
    {
     "data": {
      "text/plain": [
       "3628800"
      ]
     },
     "execution_count": 44,
     "metadata": {},
     "output_type": "execute_result"
    }
   ],
   "source": [
    "factorial(10)"
   ]
  },
  {
   "cell_type": "markdown",
   "metadata": {},
   "source": [
    "# Program to find repeated words from a text file and return count of it"
   ]
  },
  {
   "cell_type": "code",
   "execution_count": 47,
   "metadata": {},
   "outputs": [
    {
     "name": "stdout",
     "output_type": "stream",
     "text": [
      "{'mango': 3, 'banana': 3, 'apple': 3, 'pear': 2, 'grapes': 1, 'strawberry': 2, 'kiwi': 1}\n"
     ]
    }
   ],
   "source": [
    "with open('sample.txt','r') as f:\n",
    "    d = {}\n",
    "    for line in f:\n",
    "        words = line.strip().lower().split(\" \")\n",
    "        for word in words:\n",
    "            if word in d:\n",
    "                d[word] = d[word] + 1\n",
    "            else:\n",
    "                d[word] = 1\n",
    "    print(d)"
   ]
  },
  {
   "cell_type": "markdown",
   "metadata": {},
   "source": [
    "# RegEx questions"
   ]
  },
  {
   "cell_type": "markdown",
   "metadata": {},
   "source": [
    "Regex to validate and ip address"
   ]
  },
  {
   "cell_type": "code",
   "execution_count": 51,
   "metadata": {},
   "outputs": [
    {
     "name": "stdout",
     "output_type": "stream",
     "text": [
      "Success\n"
     ]
    }
   ],
   "source": [
    "import re\n",
    "pattern = '^\\d{1,3}\\.\\d{1,3}\\.\\d{1,3}\\.\\d{1,3}$'\n",
    "test_string = '10.10.10.10'\n",
    "result = re.match(pattern, test_string)\n",
    "if result:\n",
    "    print('Success')\n",
    "else:\n",
    "    print('Failed')"
   ]
  },
  {
   "cell_type": "code",
   "execution_count": 56,
   "metadata": {},
   "outputs": [
    {
     "name": "stdout",
     "output_type": "stream",
     "text": [
      "Failed\n"
     ]
    }
   ],
   "source": [
    "import re\n",
    "pattern = '^/d+\\//d+\\//d+$'\n",
    "test_string = '12/01/2018'\n",
    "result = re.match(pattern, test_string)\n",
    "if result:\n",
    "    print('Success')\n",
    "else:\n",
    "    print('Failed')"
   ]
  },
  {
   "cell_type": "markdown",
   "metadata": {},
   "source": [
    "# input = aaabbccda , output = a4b2c2d1"
   ]
  },
  {
   "cell_type": "code",
   "execution_count": 68,
   "metadata": {},
   "outputs": [],
   "source": [
    "def countedstring(word):\n",
    "    cs = {}\n",
    "    lcs = []\n",
    "    for w in word:\n",
    "        if w in cs:\n",
    "            cs[w] = cs[w] + 1\n",
    "        else:\n",
    "            cs[w] = 1\n",
    "    for key in cs.keys():\n",
    "        lcs.append(key)\n",
    "        lcs.append(cs[key])\n",
    "    lcs = list(map(str,lcs))\n",
    "    return ''.join(lcs)"
   ]
  },
  {
   "cell_type": "code",
   "execution_count": 69,
   "metadata": {},
   "outputs": [
    {
     "data": {
      "text/plain": [
       "'a4b2c2d1'"
      ]
     },
     "execution_count": 69,
     "metadata": {},
     "output_type": "execute_result"
    }
   ],
   "source": [
    "countedstring('aaabbccda')"
   ]
  },
  {
   "cell_type": "markdown",
   "metadata": {},
   "source": [
    "# Linked List in Python"
   ]
  },
  {
   "cell_type": "markdown",
   "metadata": {},
   "source": [
    "To print the middle element of the linked list"
   ]
  },
  {
   "cell_type": "code",
   "execution_count": 76,
   "metadata": {},
   "outputs": [],
   "source": [
    "class Node:\n",
    "    def __init__(self, value):\n",
    "        self.data = value\n",
    "        self.next = None\n",
    "        \n",
    "        \n",
    "class LinkedList:\n",
    "    def __init__(self):\n",
    "        self.head = None\n",
    "        \n",
    "    def push(self, new_data):\n",
    "        new_node = Node(new_data)\n",
    "        new_node.next = self.head\n",
    "        self.head = new_node\n",
    "        \n",
    "    def printMiddle(self):\n",
    "        temp = self.head\n",
    "        count = 0\n",
    "        \n",
    "        while self.head:\n",
    "            if (count % 2 != 0):\n",
    "                temp = temp.next\n",
    "            self.head = self.head.next\n",
    "            count += 1\n",
    "        print(temp.data)"
   ]
  },
  {
   "cell_type": "code",
   "execution_count": 80,
   "metadata": {},
   "outputs": [
    {
     "name": "stdout",
     "output_type": "stream",
     "text": [
      "15\n"
     ]
    }
   ],
   "source": [
    "llist = LinkedList()\n",
    "llist.push(1) \n",
    "llist.push(20)  \n",
    "llist.push(101)  \n",
    "llist.push(15)  \n",
    "llist.push(35)\n",
    "llist.push(70)\n",
    "llist.push(85)\n",
    "llist.printMiddle()"
   ]
  },
  {
   "cell_type": "markdown",
   "metadata": {},
   "source": [
    "# Interview 1"
   ]
  },
  {
   "cell_type": "markdown",
   "metadata": {},
   "source": [
    "Given an absolute pathname that may have . or .. as part of it, return the shortest standardized path.\n",
    "For example, given \"/usr/bin/../bin/./scripts/../\", return \"/usr/bin/“."
   ]
  },
  {
   "cell_type": "markdown",
   "metadata": {},
   "source": [
    "Given a string of digits, generate all possible valid IP address combinations.\n",
    "IP addresses must follow the format A.B.C.D, where A, B, C, and D are numbers between 0 and 255. Zero-prefixed numbers, such as 01 and 065, are not allowed, except for 0 itself.\n",
    "For example, given \"2542540123\", you should return ['254.25.40.123', '254.254.0.123']."
   ]
  },
  {
   "cell_type": "markdown",
   "metadata": {},
   "source": [
    "# Interview 2"
   ]
  },
  {
   "cell_type": "markdown",
   "metadata": {},
   "source": [
    "Divide x into y parts so that results is random and none of elements are same. For example x = 10, y = 2, possible outputs : (1,9),(2,8) etc."
   ]
  },
  {
   "cell_type": "code",
   "execution_count": 87,
   "metadata": {},
   "outputs": [],
   "source": [
    "from random import randint\n",
    "def equalrandomparts(x,y):\n",
    "    looper = 0\n",
    "    while(looper == 0):\n",
    "        random_list = [randint(1,x+1) for m in range(y)]\n",
    "        if sum(random_list) == x and random_list == list(set(random_list)):\n",
    "            looper = 1\n",
    "    print(random_list)"
   ]
  },
  {
   "cell_type": "code",
   "execution_count": 88,
   "metadata": {},
   "outputs": [
    {
     "name": "stdout",
     "output_type": "stream",
     "text": [
      "[452, 6, 542]\n"
     ]
    }
   ],
   "source": [
    "equalrandomparts(1000,3)"
   ]
  },
  {
   "cell_type": "markdown",
   "metadata": {},
   "source": [
    "For a given string iterate through each letter the given number of times and delete the letter. Repeat the process untill last letter is remaing. Print the last letter\n",
    "For Example : String = \"FUNNY\" Count = 8 then after first iteration \"FU NY\""
   ]
  },
  {
   "cell_type": "code",
   "execution_count": 108,
   "metadata": {},
   "outputs": [],
   "source": [
    "def last_letter(string, count):\n",
    "    while(len(string)>1):\n",
    "        if count>len(string):\n",
    "            index = count%len(string)\n",
    "            if index == 0:\n",
    "                string = string[:(len(string)-1)]\n",
    "                print(string)\n",
    "            else:\n",
    "                string= string[index:] + string[0:index-1]\n",
    "                print(string)\n",
    "        if count<len(string):\n",
    "            index = count\n",
    "            string= string[index:] + string[0:index-1]\n",
    "            print(string)\n",
    "        if count == len(string):\n",
    "            string = string[:(len(string)-1)]\n",
    "            print(string)"
   ]
  },
  {
   "cell_type": "code",
   "execution_count": 111,
   "metadata": {},
   "outputs": [
    {
     "name": "stdout",
     "output_type": "stream",
     "text": [
      "ETHERTO\n",
      "ERTOET\n",
      "OETER\n",
      "EROE\n",
      "EER\n",
      "EE\n",
      "E\n"
     ]
    }
   ],
   "source": [
    "last_letter('TOGETHER', 3)"
   ]
  },
  {
   "cell_type": "code",
   "execution_count": null,
   "metadata": {},
   "outputs": [],
   "source": []
  }
 ],
 "metadata": {
  "kernelspec": {
   "display_name": "Python 3",
   "language": "python",
   "name": "python3"
  },
  "language_info": {
   "codemirror_mode": {
    "name": "ipython",
    "version": 3
   },
   "file_extension": ".py",
   "mimetype": "text/x-python",
   "name": "python",
   "nbconvert_exporter": "python",
   "pygments_lexer": "ipython3",
   "version": "3.7.4"
  }
 },
 "nbformat": 4,
 "nbformat_minor": 2
}
